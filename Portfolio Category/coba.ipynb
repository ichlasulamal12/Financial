{
 "cells": [
  {
   "cell_type": "code",
   "execution_count": 1,
   "metadata": {},
   "outputs": [],
   "source": [
    "import pandas as pd"
   ]
  },
  {
   "cell_type": "code",
   "execution_count": 2,
   "metadata": {},
   "outputs": [],
   "source": [
    "file_path = \"D:/Verifikasi Kategori Portfolio Antasena Kredit/10-2024/RISK 11-2024/LOANDB OKT 2024 V1.0 (BEFORE CKPN).xlsx\"\n",
    "cols = [\"ACCOUNT_NUMBER\",\"CIF_MASTER\",\"NAME\",\"DEBTOR_CATEGORY\",\"PORTOFOLIO_CATEGORY\",\n",
    "        \"RESTRUCTURED_OR_NORMAL\",\"TYPE_OF_LOAN\",\"START\",\"END\",\"COLLECTIBILITY\",\"CURRENT_LOAN_OUTSTANDING\",\n",
    "        \"DEBTOR_CLASSIFICATION\",\"PRODUCT_NEW\"]\n",
    "\n",
    "loandb = pd.read_excel(file_path, sheet_name=\"LoanDB\", usecols=cols)"
   ]
  },
  {
   "cell_type": "code",
   "execution_count": 3,
   "metadata": {},
   "outputs": [],
   "source": [
    "file_path = \"D:/Verifikasi Kategori Portfolio Antasena Kredit/10-2024/RISK 11-2024/Report_DataPelaporan_Agunan_KreditPembiayaan.xlsx\"\n",
    "cols = [\"NOMOR REKENING\", \"NOMOR AGUNAN\"]\n",
    "\n",
    "agunankreditpembiayaan = pd.read_excel(file_path, sheet_name=\"Report_DataPelaporan_Agunan_Kre\", usecols=cols, skiprows=6)"
   ]
  },
  {
   "cell_type": "code",
   "execution_count": 79,
   "metadata": {},
   "outputs": [
    {
     "data": {
      "text/plain": [
       "Index(['NOMOR REKENING', 'NOMOR AGUNAN'], dtype='object')"
      ]
     },
     "execution_count": 79,
     "metadata": {},
     "output_type": "execute_result"
    }
   ],
   "source": [
    "agunankreditpembiayaan.columns"
   ]
  },
  {
   "cell_type": "code",
   "execution_count": 4,
   "metadata": {},
   "outputs": [],
   "source": [
    "file_path = \"D:/Verifikasi Kategori Portfolio Antasena Kredit/10-2024/RISK 11-2024/Report_DataPelaporan_Agunan.xlsx\"\n",
    "cols = [\"NOMOR AGUNAN\", \"JENIS AGUNAN\", \"NILAI AGUNAN\"]\n",
    "\n",
    "agunan = pd.read_excel(file_path, sheet_name=\"Report_DataPelaporan_Agunan\", usecols=cols, skiprows=6)"
   ]
  },
  {
   "cell_type": "code",
   "execution_count": 78,
   "metadata": {},
   "outputs": [
    {
     "data": {
      "text/plain": [
       "Index(['NOMOR AGUNAN', 'JENIS AGUNAN', 'NILAI AGUNAN'], dtype='object')"
      ]
     },
     "execution_count": 78,
     "metadata": {},
     "output_type": "execute_result"
    }
   ],
   "source": [
    "agunan.columns"
   ]
  },
  {
   "cell_type": "code",
   "execution_count": 5,
   "metadata": {},
   "outputs": [],
   "source": [
    "file_path = \"D:/Verifikasi Kategori Portfolio Antasena Kredit/10-2024/RISK 11-2024/Esinsial 1.xlsx\"\n",
    "\n",
    "esinsial_1 = pd.read_excel(file_path)"
   ]
  },
  {
   "cell_type": "code",
   "execution_count": 6,
   "metadata": {},
   "outputs": [],
   "source": [
    "file_path = \"D:/Verifikasi Kategori Portfolio Antasena Kredit/10-2024/RISK 11-2024/Esinsial 2.xlsx\"\n",
    "\n",
    "esinsial_2 = pd.read_excel(file_path)"
   ]
  },
  {
   "cell_type": "code",
   "execution_count": 7,
   "metadata": {},
   "outputs": [],
   "source": [
    "agunan_gabungan = pd.merge(\n",
    "    agunankreditpembiayaan, \n",
    "    agunan, \n",
    "    on='NOMOR AGUNAN',  # Kolom untuk join\n",
    "    how='inner'  # Tipe join (inner join)\n",
    ")"
   ]
  },
  {
   "cell_type": "code",
   "execution_count": 8,
   "metadata": {},
   "outputs": [],
   "source": [
    "# Daftar nilai untuk filter\n",
    "filter_jenis_agunan = [\n",
    "    'AN020101', 'AN02010201', 'AN02010202', 'AN02010203', \n",
    "    'AN02010204', 'AN02010299', 'AN02010301', 'AN02010302'\n",
    "]\n",
    "\n",
    "# Melakukan filter pada kolom JENIS AGUNAN dan membuat salinan DataFrame\n",
    "agunan_property_only = agunan_gabungan[agunan_gabungan['JENIS AGUNAN'].isin(filter_jenis_agunan)].copy()\n"
   ]
  },
  {
   "cell_type": "code",
   "execution_count": 9,
   "metadata": {},
   "outputs": [],
   "source": [
    "# Fungsi untuk menentukan nilai 'CEK AGUNAN'\n",
    "def cek_agunan(jenis_agunan):\n",
    "    if jenis_agunan in ['AN020101', 'AN02010201', 'AN02010202', 'AN02010203', 'AN02010204', 'AN02010299']:\n",
    "        return 'Beragun Properti Komersial'\n",
    "    elif jenis_agunan in ['AN02010301', 'AN02010302']:\n",
    "        return 'Beragun Rumah Tinggal'\n",
    "    else:\n",
    "        return 'Take Out'\n",
    "\n",
    "# Tambahkan kolom 'CEK AGUNAN' menggunakan apply\n",
    "agunan_property_only['CEK AGUNAN'] = agunan_property_only['JENIS AGUNAN'].apply(cek_agunan)\n",
    "agunan_property_only = agunan_property_only.reset_index(drop=True)"
   ]
  },
  {
   "cell_type": "code",
   "execution_count": 10,
   "metadata": {},
   "outputs": [],
   "source": [
    "# Agregasi nilai 'NILAI AGUNAN' berdasarkan 'NOMOR REKENING' dan 'CEK AGUNAN'\n",
    "agg = agunan_property_only.groupby(['NOMOR REKENING', 'CEK AGUNAN'])['NILAI AGUNAN'].sum().unstack(fill_value=0)\n",
    "\n",
    "# Gabungkan hasil agregasi ke DataFrame asli, reset index untuk menggabungkan dengan kolom NOMOR REKENING\n",
    "agunan_property_only = agunan_property_only.merge(agg[['Beragun Properti Komersial', 'Beragun Rumah Tinggal']], \n",
    "                                                  on='NOMOR REKENING', \n",
    "                                                  how='left')"
   ]
  },
  {
   "cell_type": "code",
   "execution_count": 11,
   "metadata": {},
   "outputs": [],
   "source": [
    "# Fungsi untuk menentukan nilai FINAL COLLATERAL\n",
    "def final_collateral(row):\n",
    "    if row['Beragun Properti Komersial'] > row['Beragun Rumah Tinggal']:\n",
    "        return 'Beragun Properti Komersial'\n",
    "    else:\n",
    "        return 'Beragun Rumah Tinggal'\n",
    "\n",
    "# Menambahkan kolom FINAL COLLATERAL menggunakan apply\n",
    "agunan_property_only['FINAL COLLATERAL'] = agunan_property_only.apply(final_collateral, axis=1)"
   ]
  },
  {
   "cell_type": "code",
   "execution_count": 13,
   "metadata": {},
   "outputs": [],
   "source": [
    "agunan_property_only_cleaned = agunan_property_only.drop_duplicates(subset='NOMOR REKENING', keep='first')"
   ]
  },
  {
   "cell_type": "code",
   "execution_count": 60,
   "metadata": {},
   "outputs": [],
   "source": [
    "# Melakukan left join pada loandb dan agunan\n",
    "worksheet_katpor = pd.merge(\n",
    "    loandb,\n",
    "    agunan_property_only_cleaned,\n",
    "    left_on='ACCOUNT_NUMBER',\n",
    "    right_on='NOMOR REKENING',\n",
    "    how='left'\n",
    ")"
   ]
  },
  {
   "cell_type": "code",
   "execution_count": 61,
   "metadata": {},
   "outputs": [],
   "source": [
    "# Menambahkan kolom 'CEK_AGUNAN_NEW'\n",
    "worksheet_katpor['CEK_AGUNAN_NEW'] = worksheet_katpor['FINAL COLLATERAL'].apply(\n",
    "    lambda x: x if pd.notna(x) else 'Non Beragun Properti'\n",
    ")"
   ]
  },
  {
   "cell_type": "code",
   "execution_count": 62,
   "metadata": {},
   "outputs": [],
   "source": [
    "# Pastikan tidak ada NaN sebelum konversi\n",
    "worksheet_katpor['CIF_MASTER'] = pd.to_numeric(worksheet_katpor['CIF_MASTER'], errors='coerce').fillna(0).astype(int)\n",
    "#esinsial_1['ID_DEBITUR'] = pd.to_numeric(esinsial_1['ID_DEBITUR'], errors='coerce').fillna(0).astype(int)\n",
    "\n",
    "# Melakukan left join antara 'worksheet_katpor' dan 'esinsial_1'\n",
    "worksheet_katpor = pd.merge(\n",
    "    worksheet_katpor,\n",
    "    esinsial_1,\n",
    "    left_on='CIF_MASTER',\n",
    "    right_on='ID_DEBITUR',\n",
    "    how='left'\n",
    ")\n",
    "\n",
    "# Menambahkan kolom 'CEK_KATPOR_ESSENTIAL'\n",
    "worksheet_katpor['CEK_KATPOR_ESSENTIAL'] = worksheet_katpor['KATPOR UPDATE'].apply(\n",
    "    lambda x: x if pd.notna(x) else 'Cek'\n",
    ")"
   ]
  },
  {
   "cell_type": "code",
   "execution_count": 63,
   "metadata": {},
   "outputs": [],
   "source": [
    "# Daftar kolom yang akan dihapus\n",
    "columns_to_drop = [\n",
    "    'NOMOR REKENING', 'NOMOR AGUNAN', 'JENIS AGUNAN', 'NILAI AGUNAN', 'CEK AGUNAN',\n",
    "    'Beragun Properti Komersial', 'Beragun Rumah Tinggal', 'FINAL COLLATERAL', \n",
    "    'NOMOR_REKENING', 'ID_DEBITUR', 'NAMA', 'KATPOR UPDATE', 'Sandi Jenis Debitur'\n",
    "]\n",
    "\n",
    "# Menghapus kolom dari DataFrame\n",
    "worksheet_katpor = worksheet_katpor.drop(columns=columns_to_drop, errors='ignore')"
   ]
  },
  {
   "cell_type": "code",
   "execution_count": 64,
   "metadata": {},
   "outputs": [],
   "source": [
    "# Langkah 1: Lakukan join sementara dengan esinsial_2\n",
    "joined_df = pd.merge(\n",
    "    worksheet_katpor, \n",
    "    esinsial_2[['Sandi Referensi', 'Kode']], \n",
    "    left_on='DEBTOR_CLASSIFICATION', \n",
    "    right_on='Sandi Referensi', \n",
    "    how='left'\n",
    ")\n",
    "\n",
    "# Langkah 2: Tambahkan kolom 'CEK_GOLDEB' berdasarkan logika\n",
    "joined_df['CEK_GOLDEB'] = joined_df.apply(\n",
    "    lambda row: row['CEK_KATPOR_ESSENTIAL'] \n",
    "    if row['CEK_KATPOR_ESSENTIAL'] != 'Cek' \n",
    "    else (row['Kode'] if pd.notna(row['Kode']) else 'Cek'), \n",
    "    axis=1\n",
    ")\n",
    "\n",
    "# Hapus kolom tambahan jika tidak dibutuhkan lagi\n",
    "joined_df.drop(columns=['Sandi Referensi', 'Kode'], inplace=True)\n",
    "\n",
    "# Hasil akhir\n",
    "worksheet_katpor = joined_df"
   ]
  },
  {
   "cell_type": "code",
   "execution_count": 65,
   "metadata": {},
   "outputs": [],
   "source": [
    "worksheet_katpor['START'] = pd.to_datetime(\n",
    "    worksheet_katpor['START'], \n",
    "    errors='coerce'\n",
    ")\n",
    "\n",
    "# Tangani nilai tanggal di luar rentang dengan NaT\n",
    "worksheet_katpor['END'] = pd.to_datetime(\n",
    "    worksheet_katpor['END'], \n",
    "    errors='coerce'\n",
    ")\n",
    "\n",
    "# Cari tanggal terbesar di kolom 'START' dan 'END'\n",
    "max_start_date = worksheet_katpor['START'].max()\n",
    "max_end_date = worksheet_katpor['END'].max()\n",
    "\n",
    "# Isi nilai NaT dengan tanggal terbesar\n",
    "worksheet_katpor['START'] = worksheet_katpor['START'].fillna(max_start_date)\n",
    "worksheet_katpor['END'] = worksheet_katpor['END'].fillna(max_end_date)"
   ]
  },
  {
   "cell_type": "code",
   "execution_count": 66,
   "metadata": {},
   "outputs": [],
   "source": [
    "# Fungsi untuk menghitung nilai kolom 'JANGKA'\n",
    "def calculate_jangka(row):\n",
    "    if row['CEK_GOLDEB'] == \"Cek Jangka - 17/18\" and (row['END'] - row['START']).days > 90:\n",
    "        return 18\n",
    "    elif row['CEK_GOLDEB'] == \"Cek Jangka - 17/18\" and (row['END'] - row['START']).days <= 90:\n",
    "        return 17\n",
    "    elif row['CEK_GOLDEB'] == \"Cek Jangka - 14/15\" and (row['END'] - row['START']).days > 90:\n",
    "        return 15\n",
    "    elif row['CEK_GOLDEB'] == \"Cek Jangka - 14/15\" and (row['END'] - row['START']).days <= 90:\n",
    "        return 14\n",
    "    else:\n",
    "        return row['CEK_GOLDEB']\n",
    "\n",
    "# Menambahkan kolom 'JANGKA'\n",
    "worksheet_katpor['JANGKA'] = worksheet_katpor.apply(calculate_jangka, axis=1)"
   ]
  },
  {
   "cell_type": "code",
   "execution_count": 67,
   "metadata": {},
   "outputs": [],
   "source": [
    "# Fungsi untuk menghitung nilai kolom 'PENSIUN'\n",
    "def calculate_pensiun(row):\n",
    "    if row['JANGKA'] == \"Cek\" and row['PRODUCT_NEW'] == \"PERSONAL\":\n",
    "        return 40\n",
    "    else:\n",
    "        return row['JANGKA']\n",
    "\n",
    "# Menambahkan kolom 'PENSIUN'\n",
    "worksheet_katpor['PENSIUN'] = worksheet_katpor.apply(calculate_pensiun, axis=1)"
   ]
  },
  {
   "cell_type": "code",
   "execution_count": 68,
   "metadata": {},
   "outputs": [],
   "source": [
    "# Melakukan left join untuk mendapatkan kolom 'KATPOR UPDATE' dari esinsial_1\n",
    "worksheet_katpor = pd.merge(\n",
    "    worksheet_katpor,\n",
    "    esinsial_1[['ID_DEBITUR', 'KATPOR UPDATE']],\n",
    "    left_on='CIF_MASTER',\n",
    "    right_on='ID_DEBITUR',\n",
    "    how='left'\n",
    ")\n",
    "\n",
    "# Menambahkan kolom 'CEK TANAH&ESSENTIAL' dengan logika formula\n",
    "def cek_tanah_essential(row):\n",
    "    if row['PENSIUN'] == \"Cek\" and row['RESTRUCTURED_OR_NORMAL'] == 63:\n",
    "        return row['RESTRUCTURED_OR_NORMAL']\n",
    "    elif row['PENSIUN'] == \"Cek\":\n",
    "        return row['KATPOR UPDATE'] if pd.notna(row['KATPOR UPDATE']) else row['PENSIUN']\n",
    "    else:\n",
    "        return row['PENSIUN']\n",
    "\n",
    "worksheet_katpor['CEK TANAH&ESSENTIAL'] = worksheet_katpor.apply(cek_tanah_essential, axis=1)\n",
    "\n",
    "# Hapus kolom 'ID_DEBITUR' dan 'KATPOR UPDATE' jika tidak diperlukan lagi\n",
    "worksheet_katpor.drop(['ID_DEBITUR', 'KATPOR UPDATE'], axis=1, inplace=True)"
   ]
  },
  {
   "cell_type": "code",
   "execution_count": 69,
   "metadata": {},
   "outputs": [],
   "source": [
    "# Menambahkan kolom baru dengan logika formula\n",
    "def cek_collateral_logic(row):\n",
    "    if row['CEK TANAH&ESSENTIAL'] == \"Cek\" and row['CEK_AGUNAN_NEW'] == \"Beragun Rumah Tinggal\":\n",
    "        return 41\n",
    "    elif row['CEK TANAH&ESSENTIAL'] == \"Cek\" and row['CEK_AGUNAN_NEW'] == \"Beragun Properti Komersial\":\n",
    "        return 42\n",
    "    else:\n",
    "        return row['CEK TANAH&ESSENTIAL']\n",
    "\n",
    "# Menambahkan kolom CEK_COLLATERAL\n",
    "worksheet_katpor['CEK_COLLATERAL'] = worksheet_katpor.apply(cek_collateral_logic, axis=1)\n"
   ]
  },
  {
   "cell_type": "code",
   "execution_count": 70,
   "metadata": {},
   "outputs": [],
   "source": [
    "# Menambahkan kolom baru dengan logika formula\n",
    "def cek_sme_logic(row):\n",
    "    if (\n",
    "        row['CEK_COLLATERAL'] == \"Cek\" and \n",
    "        (row['DEBTOR_CATEGORY'] in [\"UM\", \"UK\"] or \n",
    "         row['DEBTOR_CLASSIFICATION'] in [\"S14\", \"S24BL\"])\n",
    "    ):\n",
    "        return 36\n",
    "    else:\n",
    "        return row['CEK_COLLATERAL']\n",
    "\n",
    "# Menambahkan kolom CEK_SME\n",
    "worksheet_katpor['CEK_SME'] = worksheet_katpor.apply(cek_sme_logic, axis=1)\n"
   ]
  },
  {
   "cell_type": "code",
   "execution_count": 71,
   "metadata": {},
   "outputs": [],
   "source": [
    "# Menambahkan kolom baru dengan logika formula\n",
    "def cek_default_logic(row):\n",
    "    if (\n",
    "        (row['COLLECTIBILITY'] > 2 or row['RESTRUCTURED_OR_NORMAL'] == 1) and\n",
    "        row['CEK_SME'] == 41 and\n",
    "        row['TYPE_OF_LOAN'] == 3\n",
    "    ):\n",
    "        return 53\n",
    "    elif (\n",
    "        (row['COLLECTIBILITY'] > 2 or row['RESTRUCTURED_OR_NORMAL'] == 1) and\n",
    "        (\n",
    "            row['CEK_SME'] != 41 or\n",
    "            (row['CEK_SME'] == 41 and row['TYPE_OF_LOAN'] != 3)\n",
    "        )\n",
    "    ):\n",
    "        return 54\n",
    "    else:\n",
    "        return row['CEK_SME']\n",
    "\n",
    "# Menambahkan kolom CEK_DEFAULT\n",
    "worksheet_katpor['CEK_DEFAULT'] = worksheet_katpor.apply(cek_default_logic, axis=1)\n"
   ]
  },
  {
   "cell_type": "code",
   "execution_count": 72,
   "metadata": {},
   "outputs": [],
   "source": [
    "# Menambahkan kolom FINAL berdasarkan kondisi\n",
    "worksheet_katpor['FINAL'] = worksheet_katpor['CEK_DEFAULT'].apply(\n",
    "    lambda x: 35 if x == \"Cek\" else x\n",
    ")\n",
    "\n",
    "worksheet_katpor['FINAL'] = worksheet_katpor['FINAL'].astype('int64')"
   ]
  },
  {
   "cell_type": "code",
   "execution_count": 73,
   "metadata": {},
   "outputs": [],
   "source": [
    "# Menambahkan kolom 'NOTE' dengan formula yang diinginkan\n",
    "worksheet_katpor['NOTE'] = worksheet_katpor.apply(\n",
    "    lambda row: 'True' if row['FINAL'] == row['PORTOFOLIO_CATEGORY'] else 'False',\n",
    "    axis=1\n",
    ")\n"
   ]
  },
  {
   "cell_type": "code",
   "execution_count": 76,
   "metadata": {},
   "outputs": [],
   "source": [
    "#worksheet_katpor.to_excel('worksheet_katpor.xlsx', index=False)"
   ]
  },
  {
   "cell_type": "code",
   "execution_count": 77,
   "metadata": {},
   "outputs": [
    {
     "data": {
      "text/plain": [
       "Index(['ACCOUNT_NUMBER', 'CIF_MASTER', 'NAME', 'DEBTOR_CLASSIFICATION',\n",
       "       'DEBTOR_CATEGORY', 'RESTRUCTURED_OR_NORMAL', 'TYPE_OF_LOAN',\n",
       "       'COLLECTIBILITY', 'PORTOFOLIO_CATEGORY', 'CURRENT_LOAN_OUTSTANDING',\n",
       "       'START', 'END', 'PRODUCT_NEW', 'CEK_AGUNAN_NEW', 'CEK_KATPOR_ESSENTIAL',\n",
       "       'CEK_GOLDEB', 'JANGKA', 'PENSIUN', 'CEK TANAH&ESSENTIAL',\n",
       "       'CEK_COLLATERAL', 'CEK_SME', 'CEK_DEFAULT', 'FINAL', 'NOTE'],\n",
       "      dtype='object')"
      ]
     },
     "execution_count": 77,
     "metadata": {},
     "output_type": "execute_result"
    }
   ],
   "source": [
    "worksheet_katpor.columns"
   ]
  },
  {
   "cell_type": "code",
   "execution_count": null,
   "metadata": {},
   "outputs": [],
   "source": []
  }
 ],
 "metadata": {
  "kernelspec": {
   "display_name": "latihan_verifikasi",
   "language": "python",
   "name": "python3"
  },
  "language_info": {
   "codemirror_mode": {
    "name": "ipython",
    "version": 3
   },
   "file_extension": ".py",
   "mimetype": "text/x-python",
   "name": "python",
   "nbconvert_exporter": "python",
   "pygments_lexer": "ipython3",
   "version": "3.13.0"
  }
 },
 "nbformat": 4,
 "nbformat_minor": 2
}
